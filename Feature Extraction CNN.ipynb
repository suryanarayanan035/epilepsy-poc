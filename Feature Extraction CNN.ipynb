{
 "cells": [
  {
   "cell_type": "markdown",
   "metadata": {},
   "source": [
    "# Feature Extraction using Convolutional Neural Network"
   ]
  },
  {
   "cell_type": "code",
   "execution_count": 3,
   "metadata": {},
   "outputs": [],
   "source": [
    "import tensorflow as tf\n",
    "from tensorflow.keras.layers import InputLayer,Conv2D,BatchNormalization,MaxPool2D,Dropout,Flatten,LSTM,Dense,Reshape\n",
    "from tensorflow.keras import Sequential\n",
    "import numpy as np\n",
    "import csv"
   ]
  },
  {
   "cell_type": "code",
   "execution_count": 8,
   "metadata": {},
   "outputs": [],
   "source": [
    "feature_extraction_layers = [\n",
    "    InputLayer(input_shape=(15,1025,151),name=\"Input Layer\"),\n",
    "    Conv2D(filters=64,kernel_size=(5,5),activation=\"relu\",name=\"Convolution_Layer_1\"),\n",
    "    MaxPool2D(pool_size=(4,4)),\n",
    "    BatchNormalization(),\n",
    "    Dropout(rate=0.4),\n",
    "    Conv2D(filters=128,kernel_size=(2,2),activation=\"relu\",name=\"Convolution_Layer_2\"),\n",
    "    MaxPool2D(pool_size=(1,1)),\n",
    "    BatchNormalization(),\n",
    "    Reshape((254,128)),\n",
    "    LSTM(128),\n",
    "    Dropout(0.4),\n",
    "    Dense(60,activation=\"relu\"),\n",
    "    Dense(2)\n",
    "    \n",
    "]"
   ]
  },
  {
   "cell_type": "code",
   "execution_count": 9,
   "metadata": {},
   "outputs": [],
   "source": [
    "feature_extraction_model = Sequential(feature_extraction_layers)"
   ]
  },
  {
   "cell_type": "code",
   "execution_count": 31,
   "metadata": {},
   "outputs": [],
   "source": [
    "feature_extraction_model.compile(optimizer=tf.keras.optimizers.Adam(0.001,decay=0)\n",
    "                                 ,metrics=[\"accuracy\"] ,loss=tf.keras.losses.binary_crossentropy)"
   ]
  },
  {
   "cell_type": "code",
   "execution_count": 32,
   "metadata": {},
   "outputs": [
    {
     "name": "stdout",
     "output_type": "stream",
     "text": [
      "Model: \"sequential_2\"\n",
      "_________________________________________________________________\n",
      "Layer (type)                 Output Shape              Param #   \n",
      "=================================================================\n",
      "Convolution_Layer_1 (Conv2D) (None, 11, 1021, 64)      241664    \n",
      "_________________________________________________________________\n",
      "max_pooling2d_4 (MaxPooling2 (None, 2, 255, 64)        0         \n",
      "_________________________________________________________________\n",
      "batch_normalization_4 (Batch (None, 2, 255, 64)        256       \n",
      "_________________________________________________________________\n",
      "dropout_4 (Dropout)          (None, 2, 255, 64)        0         \n",
      "_________________________________________________________________\n",
      "Convolution_Layer_2 (Conv2D) (None, 1, 254, 128)       32896     \n",
      "_________________________________________________________________\n",
      "max_pooling2d_5 (MaxPooling2 (None, 1, 254, 128)       0         \n",
      "_________________________________________________________________\n",
      "batch_normalization_5 (Batch (None, 1, 254, 128)       512       \n",
      "_________________________________________________________________\n",
      "reshape_2 (Reshape)          (None, 254, 128)          0         \n",
      "_________________________________________________________________\n",
      "lstm_2 (LSTM)                (None, 128)               131584    \n",
      "_________________________________________________________________\n",
      "dropout_5 (Dropout)          (None, 128)               0         \n",
      "_________________________________________________________________\n",
      "dense_4 (Dense)              (None, 60)                7740      \n",
      "_________________________________________________________________\n",
      "dense_5 (Dense)              (None, 2)                 122       \n",
      "=================================================================\n",
      "Total params: 414,774\n",
      "Trainable params: 414,390\n",
      "Non-trainable params: 384\n",
      "_________________________________________________________________\n"
     ]
    }
   ],
   "source": [
    "feature_extraction_model.summary()"
   ]
  },
  {
   "cell_type": "code",
   "execution_count": 63,
   "metadata": {},
   "outputs": [],
   "source": [
    "def create_dataset():\n",
    "    features = []\n",
    "    labels=[]\n",
    "    training_folder=\"./training/\"\n",
    "    with open(\"./training/dataset.csv\",\"r\") as csv_file:\n",
    "        file = csv.reader(csv_file)\n",
    "        for row in file:\n",
    "            features.append(np.reshape(np.load(training_folder+row[0]),(15,1025,151)))\n",
    "            labels.append(np.array([int(row[1]),int(row[2])]))\n",
    "    features = np.array(features)\n",
    "    labels = np.array(labels)\n",
    "    dataset = tf.data.Dataset.from_tensor_slices((features,labels))\n",
    "    dataset = dataset.as_numpy_iterator()\n",
    "    return features,labels\n",
    "\n",
    "    "
   ]
  },
  {
   "cell_type": "code",
   "execution_count": null,
   "metadata": {},
   "outputs": [],
   "source": [
    "features,labels = create_dataset()\n",
    "labels = tf.keras.utils.to_categorical(labels)\n",
    "feature_extraction_model.fit(features,labels,epochs=30)\n",
    "# data = np.reshape(data,(1,15,1025,151))\n",
    "# prediction = feature_extraction_model.fit(data)\n",
    "# prediction.shape"
   ]
  },
  {
   "cell_type": "code",
   "execution_count": null,
   "metadata": {},
   "outputs": [],
   "source": []
  },
  {
   "cell_type": "code",
   "execution_count": null,
   "metadata": {},
   "outputs": [],
   "source": []
  }
 ],
 "metadata": {
  "kernelspec": {
   "display_name": "Python 3",
   "language": "python",
   "name": "python3"
  },
  "language_info": {
   "codemirror_mode": {
    "name": "ipython",
    "version": 3
   },
   "file_extension": ".py",
   "mimetype": "text/x-python",
   "name": "python",
   "nbconvert_exporter": "python",
   "pygments_lexer": "ipython3",
   "version": "3.8.5"
  }
 },
 "nbformat": 4,
 "nbformat_minor": 4
}
