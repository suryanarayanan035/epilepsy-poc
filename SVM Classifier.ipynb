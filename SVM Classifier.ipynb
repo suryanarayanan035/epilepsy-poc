{
 "cells": [
  {
   "cell_type": "code",
   "execution_count": 9,
   "id": "constant-wrong",
   "metadata": {},
   "outputs": [],
   "source": [
    "import sklearn\n",
    "from sklearn import svm\n",
    "from sklearn import metrics \n",
    "import csv\n",
    "import numpy as np"
   ]
  },
  {
   "cell_type": "code",
   "execution_count": 23,
   "id": "approved-mason",
   "metadata": {},
   "outputs": [],
   "source": [
    "def create_dataset():\n",
    "    features = []\n",
    "    labels=[]\n",
    "    training_folder=\"./training/\"\n",
    "    with open(\"./training/dataset.csv\",\"r\") as csv_file:\n",
    "        file = csv.reader(csv_file)\n",
    "        for row in file:\n",
    "            features.append(np.reshape(np.load(training_folder+row[0]),(2321625)))\n",
    "            labels.append(np.array(int(row[1])))\n",
    "    features = np.array(features)\n",
    "    labels = np.array(labels)\n",
    "    return features,labels\n"
   ]
  },
  {
   "cell_type": "code",
   "execution_count": 24,
   "id": "hollow-battle",
   "metadata": {},
   "outputs": [],
   "source": [
    "features,labels = create_dataset()"
   ]
  },
  {
   "cell_type": "code",
   "execution_count": 27,
   "id": "listed-switzerland",
   "metadata": {},
   "outputs": [],
   "source": [
    "classifier = svm.SVC()"
   ]
  },
  {
   "cell_type": "code",
   "execution_count": 28,
   "id": "soviet-adolescent",
   "metadata": {},
   "outputs": [
    {
     "data": {
      "text/plain": [
       "SVC()"
      ]
     },
     "execution_count": 28,
     "metadata": {},
     "output_type": "execute_result"
    }
   ],
   "source": [
    "classifier.fit(features,labels)"
   ]
  },
  {
   "cell_type": "code",
   "execution_count": null,
   "id": "returning-priority",
   "metadata": {},
   "outputs": [],
   "source": [
    "acc = classifier.predict()\n"
   ]
  }
 ],
 "metadata": {
  "kernelspec": {
   "display_name": "Python 3",
   "language": "python",
   "name": "python3"
  },
  "language_info": {
   "codemirror_mode": {
    "name": "ipython",
    "version": 3
   },
   "file_extension": ".py",
   "mimetype": "text/x-python",
   "name": "python",
   "nbconvert_exporter": "python",
   "pygments_lexer": "ipython3",
   "version": "3.8.5"
  }
 },
 "nbformat": 4,
 "nbformat_minor": 5
}
