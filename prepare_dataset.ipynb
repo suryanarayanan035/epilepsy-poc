{
 "cells": [
  {
   "cell_type": "code",
   "execution_count": 2,
   "metadata": {},
   "outputs": [],
   "source": [
    "import csv\n",
    "import os"
   ]
  },
  {
   "cell_type": "code",
   "execution_count": 29,
   "metadata": {},
   "outputs": [],
   "source": [
    "base_dir=\"\"\n",
    "def get_csv(dataset_folder,dataset_name):\n",
    "    rows = []\n",
    "    seizure_class=None\n",
    "    for index,file in enumerate(os.listdir(base_dir+dataset_folder)):\n",
    "        if file.split(\".\")[-1] == \"csv\":\n",
    "            continue\n",
    "        segment_type = file.split(\"_\")[2]\n",
    "        \n",
    "        if segment_type==\"interictal\":\n",
    "            seizure_class = 0\n",
    "        else:\n",
    "            seizure_class = 1\n",
    "        rows.append([file,seizure_class])\n",
    "    with open(dataset_folder+dataset_name,'w',newline=\"\") as csv_file:\n",
    "        writer = csv.writer(csv_file)\n",
    "        for row in rows:\n",
    "            writer.writerow(row)\n",
    "        \n",
    "get_csv(\"training-dataset/\",\"test-dataset.csv\")"
   ]
  },
  {
   "cell_type": "code",
   "execution_count": 30,
   "metadata": {},
   "outputs": [
    {
     "name": "stdout",
     "output_type": "stream",
     "text": [
      "['Patient_1_interictal_segment_0001.mat', '0']\n",
      "['Patient_1_interictal_segment_0002.mat', '0']\n",
      "['Patient_1_interictal_segment_0003.mat', '0']\n",
      "['Patient_1_interictal_segment_0004.mat', '0']\n",
      "['Patient_1_interictal_segment_0005.mat', '0']\n",
      "['Patient_1_interictal_segment_0006.mat', '0']\n",
      "['Patient_1_interictal_segment_0007.mat', '0']\n",
      "['Patient_1_interictal_segment_0008.mat', '0']\n",
      "['Patient_1_interictal_segment_0009.mat', '0']\n",
      "['Patient_1_interictal_segment_0010.mat', '0']\n",
      "['Patient_1_interictal_segment_0011.mat', '0']\n",
      "['Patient_1_interictal_segment_0012.mat', '0']\n",
      "['Patient_1_interictal_segment_0013.mat', '0']\n",
      "['Patient_1_interictal_segment_0014.mat', '0']\n",
      "['Patient_1_interictal_segment_0015.mat', '0']\n",
      "['Patient_1_interictal_segment_0016.mat', '0']\n",
      "['Patient_1_interictal_segment_0017.mat', '0']\n",
      "['Patient_1_interictal_segment_0018.mat', '0']\n",
      "['Patient_1_interictal_segment_0019.mat', '0']\n",
      "['Patient_1_interictal_segment_0020.mat', '0']\n",
      "['Patient_1_interictal_segment_0024.mat', '0']\n",
      "['Patient_1_interictal_segment_0025.mat', '0']\n",
      "['Patient_1_interictal_segment_0026.mat', '0']\n",
      "['Patient_1_interictal_segment_0027.mat', '0']\n",
      "['Patient_1_interictal_segment_0028.mat', '0']\n",
      "['Patient_1_interictal_segment_0029.mat', '0']\n",
      "['Patient_1_interictal_segment_0030.mat', '0']\n",
      "['Patient_1_interictal_segment_0031.mat', '0']\n",
      "['Patient_1_interictal_segment_0032.mat', '0']\n",
      "['Patient_1_interictal_segment_0033.mat', '0']\n",
      "['Patient_1_interictal_segment_0034.mat', '0']\n",
      "['Patient_1_interictal_segment_0035.mat', '0']\n",
      "['Patient_1_interictal_segment_0036.mat', '0']\n",
      "['Patient_1_interictal_segment_0037.mat', '0']\n",
      "['Patient_1_interictal_segment_0038.mat', '0']\n",
      "['Patient_1_interictal_segment_0039.mat', '0']\n",
      "['Patient_1_interictal_segment_0040.mat', '0']\n",
      "['Patient_1_interictal_segment_0041.mat', '0']\n",
      "['Patient_1_interictal_segment_0042.mat', '0']\n",
      "['Patient_1_interictal_segment_0043.mat', '0']\n",
      "['Patient_1_interictal_segment_0044.mat', '0']\n",
      "['Patient_1_interictal_segment_0045.mat', '0']\n",
      "['Patient_1_interictal_segment_0046.mat', '0']\n",
      "['Patient_1_interictal_segment_0047.mat', '0']\n",
      "['Patient_1_interictal_segment_0048.mat', '0']\n",
      "['Patient_1_interictal_segment_0049.mat', '0']\n",
      "['Patient_1_interictal_segment_0050.mat', '0']\n",
      "['Patient_1_preictal_segment_0001.mat', '1']\n",
      "['Patient_1_preictal_segment_0002.mat', '1']\n",
      "['Patient_1_preictal_segment_0003.mat', '1']\n",
      "['Patient_1_preictal_segment_0004.mat', '1']\n",
      "['Patient_1_preictal_segment_0005.mat', '1']\n",
      "['Patient_1_preictal_segment_0006.mat', '1']\n",
      "['Patient_1_preictal_segment_0007.mat', '1']\n",
      "['Patient_1_preictal_segment_0008.mat', '1']\n",
      "['Patient_1_preictal_segment_0009.mat', '1']\n",
      "['Patient_1_preictal_segment_0010.mat', '1']\n",
      "['Patient_1_preictal_segment_0011.mat', '1']\n",
      "['Patient_1_preictal_segment_0012.mat', '1']\n",
      "['Patient_1_preictal_segment_0013.mat', '1']\n",
      "['Patient_1_preictal_segment_0014.mat', '1']\n",
      "['Patient_1_preictal_segment_0015.mat', '1']\n"
     ]
    }
   ],
   "source": [
    "with open(\"training-dataset/test-dataset.csv\") as csv_file:\n",
    "    csv_reader = csv.reader(csv_file, delimiter=',')\n",
    "    for row in csv_reader:\n",
    "        print(row)"
   ]
  },
  {
   "cell_type": "code",
   "execution_count": null,
   "metadata": {},
   "outputs": [],
   "source": []
  }
 ],
 "metadata": {
  "kernelspec": {
   "display_name": "Python 3",
   "language": "python",
   "name": "python3"
  },
  "language_info": {
   "codemirror_mode": {
    "name": "ipython",
    "version": 3
   },
   "file_extension": ".py",
   "mimetype": "text/x-python",
   "name": "python",
   "nbconvert_exporter": "python",
   "pygments_lexer": "ipython3",
   "version": "3.8.5"
  }
 },
 "nbformat": 4,
 "nbformat_minor": 4
}
