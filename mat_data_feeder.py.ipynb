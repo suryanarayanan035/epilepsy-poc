{
 "cells": [
  {
   "cell_type": "code",
   "execution_count": 4,
   "id": "cardiac-sending",
   "metadata": {},
   "outputs": [],
   "source": [
    "import mne\n",
    "import numpy as np\n",
    "import samplerate\n",
    "import librosa\n",
    "import os\n",
    "import matplotlib.pyplot as plt\n",
    "from mne.externals.pymatreader import read_mat"
   ]
  },
  {
   "cell_type": "code",
   "execution_count": 2,
   "id": "liked-cruise",
   "metadata": {
    "scrolled": true
   },
   "outputs": [
    {
     "ename": "NameError",
     "evalue": "name 'mat_data' is not defined",
     "output_type": "error",
     "traceback": [
      "\u001b[0;31m---------------------------------------------------------------------------\u001b[0m",
      "\u001b[0;31mNameError\u001b[0m                                 Traceback (most recent call last)",
      "\u001b[0;32m<ipython-input-2-74c1db504873>\u001b[0m in \u001b[0;36m<module>\u001b[0;34m\u001b[0m\n\u001b[0;32m----> 1\u001b[0;31m \u001b[0mshape\u001b[0m \u001b[0;34m=\u001b[0m \u001b[0mmat_data\u001b[0m\u001b[0;34m[\u001b[0m\u001b[0;34m\"interictal_segment_1\"\u001b[0m\u001b[0;34m]\u001b[0m\u001b[0;34m[\u001b[0m\u001b[0;34m\"data\"\u001b[0m\u001b[0;34m]\u001b[0m\u001b[0;34m.\u001b[0m\u001b[0mshape\u001b[0m\u001b[0;34m\u001b[0m\u001b[0;34m\u001b[0m\u001b[0m\n\u001b[0m\u001b[1;32m      2\u001b[0m \u001b[0mlength\u001b[0m \u001b[0;34m=\u001b[0m \u001b[0mmat_data\u001b[0m\u001b[0;34m[\u001b[0m\u001b[0;34m\"interictal_segment_1\"\u001b[0m\u001b[0;34m]\u001b[0m\u001b[0;34m[\u001b[0m\u001b[0;34m\"data_length_sec\"\u001b[0m\u001b[0;34m]\u001b[0m\u001b[0;34m\u001b[0m\u001b[0;34m\u001b[0m\u001b[0m\n\u001b[1;32m      3\u001b[0m \u001b[0msampling_frequency\u001b[0m \u001b[0;34m=\u001b[0m \u001b[0mmat_data\u001b[0m\u001b[0;34m[\u001b[0m\u001b[0;34m\"interictal_segment_1\"\u001b[0m\u001b[0;34m]\u001b[0m\u001b[0;34m[\u001b[0m\u001b[0;34m\"sampling_frequency\"\u001b[0m\u001b[0;34m]\u001b[0m\u001b[0;34m\u001b[0m\u001b[0;34m\u001b[0m\u001b[0m\n\u001b[1;32m      4\u001b[0m \u001b[0mchannels\u001b[0m \u001b[0;34m=\u001b[0m \u001b[0mmat_data\u001b[0m\u001b[0;34m[\u001b[0m\u001b[0;34m\"interictal_segment_1\"\u001b[0m\u001b[0;34m]\u001b[0m\u001b[0;34m[\u001b[0m\u001b[0;34m\"channels\"\u001b[0m\u001b[0;34m]\u001b[0m\u001b[0;34m\u001b[0m\u001b[0;34m\u001b[0m\u001b[0m\n\u001b[1;32m      5\u001b[0m \u001b[0mno_of_channels\u001b[0m \u001b[0;34m=\u001b[0m \u001b[0;36m15\u001b[0m\u001b[0;34m\u001b[0m\u001b[0;34m\u001b[0m\u001b[0m\n",
      "\u001b[0;31mNameError\u001b[0m: name 'mat_data' is not defined"
     ]
    }
   ],
   "source": [
    "shape = mat_data[\"interictal_segment_1\"][\"data\"].shape\n",
    "length = mat_data[\"interictal_segment_1\"][\"data_length_sec\"]\n",
    "sampling_frequency = mat_data[\"interictal_segment_1\"][\"sampling_frequency\"]\n",
    "channels = mat_data[\"interictal_segment_1\"][\"channels\"]\n",
    "no_of_channels = 15\n",
    "print(\"Shape of EEG:{}\\n\".format(shape))\n",
    "print(\"Length of EEG:{}secs\\n\".format(length))\n",
    "print(\"Sampling Frequency of EEG:{}\\n\".format(sampling_frequency))\n",
    "print(\"Channels in EEG Recording:{}\\n\".format(channels))"
   ]
  },
  {
   "cell_type": "code",
   "execution_count": 16,
   "id": "renewable-bacon",
   "metadata": {},
   "outputs": [],
   "source": [
    "base_dir = \"\"\n",
    "kaggle_dataset = \"kaggle-dataset/\"\n",
    "training_folder=\"./training/\"\n",
    "no_of_channels=15\n",
    "for index,file in enumerate(os.listdir(base_dir+kaggle_dataset)):\n",
    "    resampled_data = []\n",
    "    ## Resampling data from 5000Hz to 512Hz\n",
    "    for i in range(0,no_of_channels,1):\n",
    "        mat_data = read_mat(base_dir+kaggle_dataset+file)\n",
    "        mat_list = list(mat_data)\n",
    "        rs_row =  samplerate.resample(mat_data[mat_list[3]][\"data\"][i],0.1024,\"sinc_best\")\n",
    "        resampled_data.append(rs_row)\n",
    "    resampled_data = np.array(resampled_data)\n",
    "    #Applying Fourier Transform on respamled data\n",
    "    stft_segment = []\n",
    "    for channel in resampled_data: \n",
    "        stft_segment.append(librosa.stft(channel,n_fft=2048,win_length=2048,hop_length=2048))\n",
    "    preprocessed_file_name = file.split(\".\")[0]+\"_{}\".format(index+1)+\".npy\"\n",
    "    stft_segment = np.array(stft_segment)\n",
    "    stft_segment = np.abs(stft_segment)\n",
    "    np.save(training_folder+preprocessed_file_name,stft_segment,allow_pickle=False)\n",
    "        "
   ]
  },
  {
   "cell_type": "code",
   "execution_count": 5,
   "id": "genetic-vermont",
   "metadata": {},
   "outputs": [
    {
     "ename": "NameError",
     "evalue": "name 'resampled_data' is not defined",
     "output_type": "error",
     "traceback": [
      "\u001b[0;31m---------------------------------------------------------------------------\u001b[0m",
      "\u001b[0;31mNameError\u001b[0m                                 Traceback (most recent call last)",
      "\u001b[0;32m<ipython-input-5-dcca3c23ec51>\u001b[0m in \u001b[0;36m<module>\u001b[0;34m\u001b[0m\n\u001b[1;32m      1\u001b[0m \u001b[0mtraining_folder\u001b[0m\u001b[0;34m=\u001b[0m\u001b[0;34m\"kaggle\"\u001b[0m\u001b[0;34m\u001b[0m\u001b[0;34m\u001b[0m\u001b[0m\n\u001b[1;32m      2\u001b[0m \u001b[0mstft_segment\u001b[0m\u001b[0;34m=\u001b[0m\u001b[0;34m[\u001b[0m\u001b[0;34m]\u001b[0m\u001b[0;34m\u001b[0m\u001b[0;34m\u001b[0m\u001b[0m\n\u001b[0;32m----> 3\u001b[0;31m \u001b[0;32mfor\u001b[0m \u001b[0mchannel\u001b[0m \u001b[0;32min\u001b[0m \u001b[0mresampled_data\u001b[0m\u001b[0;34m:\u001b[0m\u001b[0;34m\u001b[0m\u001b[0;34m\u001b[0m\u001b[0m\n\u001b[0m\u001b[1;32m      4\u001b[0m     \u001b[0mstft_segment\u001b[0m\u001b[0;34m.\u001b[0m\u001b[0mappend\u001b[0m\u001b[0;34m(\u001b[0m\u001b[0mlibrosa\u001b[0m\u001b[0;34m.\u001b[0m\u001b[0mstft\u001b[0m\u001b[0;34m(\u001b[0m\u001b[0mchannel\u001b[0m\u001b[0;34m,\u001b[0m\u001b[0mn_fft\u001b[0m\u001b[0;34m=\u001b[0m\u001b[0;36m2048\u001b[0m\u001b[0;34m,\u001b[0m\u001b[0mwin_length\u001b[0m\u001b[0;34m=\u001b[0m\u001b[0;36m2048\u001b[0m\u001b[0;34m,\u001b[0m\u001b[0mhop_length\u001b[0m\u001b[0;34m=\u001b[0m\u001b[0;36m2048\u001b[0m\u001b[0;34m)\u001b[0m\u001b[0;34m)\u001b[0m\u001b[0;34m\u001b[0m\u001b[0;34m\u001b[0m\u001b[0m\n\u001b[1;32m      5\u001b[0m \u001b[0mstft_segment\u001b[0m \u001b[0;34m=\u001b[0m \u001b[0mnp\u001b[0m\u001b[0;34m.\u001b[0m\u001b[0marray\u001b[0m\u001b[0;34m(\u001b[0m\u001b[0mstft_segment\u001b[0m\u001b[0;34m)\u001b[0m\u001b[0;34m\u001b[0m\u001b[0;34m\u001b[0m\u001b[0m\n",
      "\u001b[0;31mNameError\u001b[0m: name 'resampled_data' is not defined"
     ]
    }
   ],
   "source": [
    "training_folder=\"kaggle\"\n",
    "stft_segment=[]\n",
    "for channel in resampled_data: \n",
    "    stft_segment.append(librosa.stft(channel,n_fft=2048,win_length=2048,hop_length=2048))\n",
    "stft_segment = np.array(stft_segment)\n",
    "stft_segment = np.abs(stft_segment)\n",
    "np.save(training_folder+\"test.npy\",stft_segment,allow_pickle=False)"
   ]
  },
  {
   "cell_type": "code",
   "execution_count": 16,
   "id": "involved-croatia",
   "metadata": {},
   "outputs": [
    {
     "data": {
      "text/plain": [
       "(15, 1025, 151)"
      ]
     },
     "execution_count": 16,
     "metadata": {},
     "output_type": "execute_result"
    }
   ],
   "source": [
    "stft_segment.shape"
   ]
  },
  {
   "cell_type": "code",
   "execution_count": null,
   "id": "amber-edgar",
   "metadata": {},
   "outputs": [],
   "source": []
  }
 ],
 "metadata": {
  "kernelspec": {
   "display_name": "Python 3",
   "language": "python",
   "name": "python3"
  },
  "language_info": {
   "codemirror_mode": {
    "name": "ipython",
    "version": 3
   },
   "file_extension": ".py",
   "mimetype": "text/x-python",
   "name": "python",
   "nbconvert_exporter": "python",
   "pygments_lexer": "ipython3",
   "version": "3.8.5"
  }
 },
 "nbformat": 4,
 "nbformat_minor": 5
}
